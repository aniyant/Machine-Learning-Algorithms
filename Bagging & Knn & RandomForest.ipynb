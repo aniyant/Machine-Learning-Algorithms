{
 "cells": [
  {
   "cell_type": "code",
   "execution_count": 1,
   "metadata": {},
   "outputs": [],
   "source": [
    "# importing some important libraries\n",
    "import pandas as pd\n",
    "import numpy as np\n",
    "from sklearn.ensemble import BaggingClassifier\n",
    "from sklearn.model_selection import train_test_split, GridSearchCV\n",
    "from sklearn.tree import DecisionTreeClassifier\n",
    "from sklearn import tree\n",
    "import matplotlib.pyplot as plt\n",
    "%matplotlib inline"
   ]
  },
  {
   "cell_type": "code",
   "execution_count": 3,
   "metadata": {},
   "outputs": [],
   "source": [
    "# reading winequality csv file\n",
    "df = pd.read_csv(\"https://raw.githubusercontent.com/aniruddhachoudhury/Red-Wine-Quality/master/winequality-red.csv\")"
   ]
  },
  {
   "cell_type": "code",
   "execution_count": 21,
   "metadata": {},
   "outputs": [
    {
     "data": {
      "text/html": [
       "<div>\n",
       "<style scoped>\n",
       "    .dataframe tbody tr th:only-of-type {\n",
       "        vertical-align: middle;\n",
       "    }\n",
       "\n",
       "    .dataframe tbody tr th {\n",
       "        vertical-align: top;\n",
       "    }\n",
       "\n",
       "    .dataframe thead th {\n",
       "        text-align: right;\n",
       "    }\n",
       "</style>\n",
       "<table border=\"1\" class=\"dataframe\">\n",
       "  <thead>\n",
       "    <tr style=\"text-align: right;\">\n",
       "      <th></th>\n",
       "      <th>fixed acidity</th>\n",
       "      <th>volatile acidity</th>\n",
       "      <th>citric acid</th>\n",
       "      <th>residual sugar</th>\n",
       "      <th>chlorides</th>\n",
       "      <th>free sulfur dioxide</th>\n",
       "      <th>total sulfur dioxide</th>\n",
       "      <th>density</th>\n",
       "      <th>pH</th>\n",
       "      <th>sulphates</th>\n",
       "      <th>alcohol</th>\n",
       "      <th>quality</th>\n",
       "    </tr>\n",
       "  </thead>\n",
       "  <tbody>\n",
       "    <tr>\n",
       "      <th>0</th>\n",
       "      <td>7.4</td>\n",
       "      <td>0.700</td>\n",
       "      <td>0.00</td>\n",
       "      <td>1.9</td>\n",
       "      <td>0.076</td>\n",
       "      <td>11.0</td>\n",
       "      <td>34.0</td>\n",
       "      <td>0.99780</td>\n",
       "      <td>3.51</td>\n",
       "      <td>0.56</td>\n",
       "      <td>9.4</td>\n",
       "      <td>5</td>\n",
       "    </tr>\n",
       "    <tr>\n",
       "      <th>1</th>\n",
       "      <td>7.8</td>\n",
       "      <td>0.880</td>\n",
       "      <td>0.00</td>\n",
       "      <td>2.6</td>\n",
       "      <td>0.098</td>\n",
       "      <td>25.0</td>\n",
       "      <td>67.0</td>\n",
       "      <td>0.99680</td>\n",
       "      <td>3.20</td>\n",
       "      <td>0.68</td>\n",
       "      <td>9.8</td>\n",
       "      <td>5</td>\n",
       "    </tr>\n",
       "    <tr>\n",
       "      <th>2</th>\n",
       "      <td>7.8</td>\n",
       "      <td>0.760</td>\n",
       "      <td>0.04</td>\n",
       "      <td>2.3</td>\n",
       "      <td>0.092</td>\n",
       "      <td>15.0</td>\n",
       "      <td>54.0</td>\n",
       "      <td>0.99700</td>\n",
       "      <td>3.26</td>\n",
       "      <td>0.65</td>\n",
       "      <td>9.8</td>\n",
       "      <td>5</td>\n",
       "    </tr>\n",
       "    <tr>\n",
       "      <th>3</th>\n",
       "      <td>11.2</td>\n",
       "      <td>0.280</td>\n",
       "      <td>0.56</td>\n",
       "      <td>1.9</td>\n",
       "      <td>0.075</td>\n",
       "      <td>17.0</td>\n",
       "      <td>60.0</td>\n",
       "      <td>0.99800</td>\n",
       "      <td>3.16</td>\n",
       "      <td>0.58</td>\n",
       "      <td>9.8</td>\n",
       "      <td>6</td>\n",
       "    </tr>\n",
       "    <tr>\n",
       "      <th>4</th>\n",
       "      <td>7.4</td>\n",
       "      <td>0.700</td>\n",
       "      <td>0.00</td>\n",
       "      <td>1.9</td>\n",
       "      <td>0.076</td>\n",
       "      <td>11.0</td>\n",
       "      <td>34.0</td>\n",
       "      <td>0.99780</td>\n",
       "      <td>3.51</td>\n",
       "      <td>0.56</td>\n",
       "      <td>9.4</td>\n",
       "      <td>5</td>\n",
       "    </tr>\n",
       "    <tr>\n",
       "      <th>...</th>\n",
       "      <td>...</td>\n",
       "      <td>...</td>\n",
       "      <td>...</td>\n",
       "      <td>...</td>\n",
       "      <td>...</td>\n",
       "      <td>...</td>\n",
       "      <td>...</td>\n",
       "      <td>...</td>\n",
       "      <td>...</td>\n",
       "      <td>...</td>\n",
       "      <td>...</td>\n",
       "      <td>...</td>\n",
       "    </tr>\n",
       "    <tr>\n",
       "      <th>1594</th>\n",
       "      <td>6.2</td>\n",
       "      <td>0.600</td>\n",
       "      <td>0.08</td>\n",
       "      <td>2.0</td>\n",
       "      <td>0.090</td>\n",
       "      <td>32.0</td>\n",
       "      <td>44.0</td>\n",
       "      <td>0.99490</td>\n",
       "      <td>3.45</td>\n",
       "      <td>0.58</td>\n",
       "      <td>10.5</td>\n",
       "      <td>5</td>\n",
       "    </tr>\n",
       "    <tr>\n",
       "      <th>1595</th>\n",
       "      <td>5.9</td>\n",
       "      <td>0.550</td>\n",
       "      <td>0.10</td>\n",
       "      <td>2.2</td>\n",
       "      <td>0.062</td>\n",
       "      <td>39.0</td>\n",
       "      <td>51.0</td>\n",
       "      <td>0.99512</td>\n",
       "      <td>3.52</td>\n",
       "      <td>0.76</td>\n",
       "      <td>11.2</td>\n",
       "      <td>6</td>\n",
       "    </tr>\n",
       "    <tr>\n",
       "      <th>1596</th>\n",
       "      <td>6.3</td>\n",
       "      <td>0.510</td>\n",
       "      <td>0.13</td>\n",
       "      <td>2.3</td>\n",
       "      <td>0.076</td>\n",
       "      <td>29.0</td>\n",
       "      <td>40.0</td>\n",
       "      <td>0.99574</td>\n",
       "      <td>3.42</td>\n",
       "      <td>0.75</td>\n",
       "      <td>11.0</td>\n",
       "      <td>6</td>\n",
       "    </tr>\n",
       "    <tr>\n",
       "      <th>1597</th>\n",
       "      <td>5.9</td>\n",
       "      <td>0.645</td>\n",
       "      <td>0.12</td>\n",
       "      <td>2.0</td>\n",
       "      <td>0.075</td>\n",
       "      <td>32.0</td>\n",
       "      <td>44.0</td>\n",
       "      <td>0.99547</td>\n",
       "      <td>3.57</td>\n",
       "      <td>0.71</td>\n",
       "      <td>10.2</td>\n",
       "      <td>5</td>\n",
       "    </tr>\n",
       "    <tr>\n",
       "      <th>1598</th>\n",
       "      <td>6.0</td>\n",
       "      <td>0.310</td>\n",
       "      <td>0.47</td>\n",
       "      <td>3.6</td>\n",
       "      <td>0.067</td>\n",
       "      <td>18.0</td>\n",
       "      <td>42.0</td>\n",
       "      <td>0.99549</td>\n",
       "      <td>3.39</td>\n",
       "      <td>0.66</td>\n",
       "      <td>11.0</td>\n",
       "      <td>6</td>\n",
       "    </tr>\n",
       "  </tbody>\n",
       "</table>\n",
       "<p>1599 rows × 12 columns</p>\n",
       "</div>"
      ],
      "text/plain": [
       "      fixed acidity  volatile acidity  citric acid  residual sugar  chlorides  \\\n",
       "0               7.4             0.700         0.00             1.9      0.076   \n",
       "1               7.8             0.880         0.00             2.6      0.098   \n",
       "2               7.8             0.760         0.04             2.3      0.092   \n",
       "3              11.2             0.280         0.56             1.9      0.075   \n",
       "4               7.4             0.700         0.00             1.9      0.076   \n",
       "...             ...               ...          ...             ...        ...   \n",
       "1594            6.2             0.600         0.08             2.0      0.090   \n",
       "1595            5.9             0.550         0.10             2.2      0.062   \n",
       "1596            6.3             0.510         0.13             2.3      0.076   \n",
       "1597            5.9             0.645         0.12             2.0      0.075   \n",
       "1598            6.0             0.310         0.47             3.6      0.067   \n",
       "\n",
       "      free sulfur dioxide  total sulfur dioxide  density    pH  sulphates  \\\n",
       "0                    11.0                  34.0  0.99780  3.51       0.56   \n",
       "1                    25.0                  67.0  0.99680  3.20       0.68   \n",
       "2                    15.0                  54.0  0.99700  3.26       0.65   \n",
       "3                    17.0                  60.0  0.99800  3.16       0.58   \n",
       "4                    11.0                  34.0  0.99780  3.51       0.56   \n",
       "...                   ...                   ...      ...   ...        ...   \n",
       "1594                 32.0                  44.0  0.99490  3.45       0.58   \n",
       "1595                 39.0                  51.0  0.99512  3.52       0.76   \n",
       "1596                 29.0                  40.0  0.99574  3.42       0.75   \n",
       "1597                 32.0                  44.0  0.99547  3.57       0.71   \n",
       "1598                 18.0                  42.0  0.99549  3.39       0.66   \n",
       "\n",
       "      alcohol  quality  \n",
       "0         9.4        5  \n",
       "1         9.8        5  \n",
       "2         9.8        5  \n",
       "3         9.8        6  \n",
       "4         9.4        5  \n",
       "...       ...      ...  \n",
       "1594     10.5        5  \n",
       "1595     11.2        6  \n",
       "1596     11.0        6  \n",
       "1597     10.2        5  \n",
       "1598     11.0        6  \n",
       "\n",
       "[1599 rows x 12 columns]"
      ]
     },
     "execution_count": 21,
     "metadata": {},
     "output_type": "execute_result"
    }
   ],
   "source": [
    "df"
   ]
  },
  {
   "cell_type": "code",
   "execution_count": 4,
   "metadata": {},
   "outputs": [],
   "source": [
    "x = df.drop(columns=['quality'])"
   ]
  },
  {
   "cell_type": "code",
   "execution_count": 5,
   "metadata": {},
   "outputs": [],
   "source": [
    "y = df.quality"
   ]
  },
  {
   "cell_type": "code",
   "execution_count": 10,
   "metadata": {},
   "outputs": [],
   "source": [
    "# train and test split\n",
    "X_train,x_test,Y_train,y_test = train_test_split(x,y,test_size=0.2,random_state=20)"
   ]
  },
  {
   "cell_type": "markdown",
   "metadata": {},
   "source": [
    "### BaggingClassifier with DecisionTreeClassifier"
   ]
  },
  {
   "cell_type": "code",
   "execution_count": 11,
   "metadata": {},
   "outputs": [],
   "source": [
    "# Creating a bagging classifier object 100 decision trees as base estimators\n",
    "bag_dt = BaggingClassifier(DecisionTreeClassifier(),n_estimators=100)"
   ]
  },
  {
   "cell_type": "code",
   "execution_count": 13,
   "metadata": {},
   "outputs": [
    {
     "data": {
      "text/plain": [
       "BaggingClassifier(base_estimator=DecisionTreeClassifier(), n_estimators=100)"
      ]
     },
     "execution_count": 13,
     "metadata": {},
     "output_type": "execute_result"
    }
   ],
   "source": [
    "# Training the data\n",
    "bag_dt.fit(X_train,Y_train)"
   ]
  },
  {
   "cell_type": "code",
   "execution_count": 17,
   "metadata": {},
   "outputs": [
    {
     "data": {
      "text/plain": [
       "DecisionTreeClassifier()"
      ]
     },
     "execution_count": 17,
     "metadata": {},
     "output_type": "execute_result"
    }
   ],
   "source": [
    "bag_dt.base_estimator_  # showing base estimator"
   ]
  },
  {
   "cell_type": "code",
   "execution_count": 20,
   "metadata": {},
   "outputs": [
    {
     "data": {
      "text/plain": [
       "array([3, 4, 5, 6, 7, 8], dtype=int64)"
      ]
     },
     "execution_count": 20,
     "metadata": {},
     "output_type": "execute_result"
    }
   ],
   "source": [
    "bag_dt.classes_  # showing classes or label values"
   ]
  },
  {
   "cell_type": "code",
   "execution_count": 41,
   "metadata": {},
   "outputs": [
    {
     "data": {
      "text/plain": [
       "11"
      ]
     },
     "execution_count": 41,
     "metadata": {},
     "output_type": "execute_result"
    }
   ],
   "source": [
    "# Numbers of features used\n",
    "bag_dt.n_features_in_"
   ]
  },
  {
   "cell_type": "code",
   "execution_count": 42,
   "metadata": {},
   "outputs": [
    {
     "data": {
      "text/plain": [
       "{'base_estimator__ccp_alpha': 0.0,\n",
       " 'base_estimator__class_weight': None,\n",
       " 'base_estimator__criterion': 'gini',\n",
       " 'base_estimator__max_depth': None,\n",
       " 'base_estimator__max_features': None,\n",
       " 'base_estimator__max_leaf_nodes': None,\n",
       " 'base_estimator__min_impurity_decrease': 0.0,\n",
       " 'base_estimator__min_impurity_split': None,\n",
       " 'base_estimator__min_samples_leaf': 1,\n",
       " 'base_estimator__min_samples_split': 2,\n",
       " 'base_estimator__min_weight_fraction_leaf': 0.0,\n",
       " 'base_estimator__presort': 'deprecated',\n",
       " 'base_estimator__random_state': None,\n",
       " 'base_estimator__splitter': 'best',\n",
       " 'base_estimator': DecisionTreeClassifier(),\n",
       " 'bootstrap': True,\n",
       " 'bootstrap_features': False,\n",
       " 'max_features': 1.0,\n",
       " 'max_samples': 1.0,\n",
       " 'n_estimators': 100,\n",
       " 'n_jobs': None,\n",
       " 'oob_score': False,\n",
       " 'random_state': None,\n",
       " 'verbose': 0,\n",
       " 'warm_start': False}"
      ]
     },
     "execution_count": 42,
     "metadata": {},
     "output_type": "execute_result"
    }
   ],
   "source": [
    "# we can check parameters which are used to train decision trees\n",
    "bag_dt.get_params() "
   ]
  },
  {
   "cell_type": "code",
   "execution_count": 43,
   "metadata": {},
   "outputs": [
    {
     "data": {
      "text/plain": [
       "0.69375"
      ]
     },
     "execution_count": 43,
     "metadata": {},
     "output_type": "execute_result"
    }
   ],
   "source": [
    "# accuracy score\n",
    "bag_dt.score(x_test,y_test)"
   ]
  },
  {
   "cell_type": "code",
   "execution_count": 44,
   "metadata": {},
   "outputs": [
    {
     "data": {
      "text/plain": [
       "array([5, 5, 5, 5, 6, 6, 5, 6, 5, 5, 6, 6, 4, 5, 5, 5, 6, 6, 5, 5, 5, 7,\n",
       "       5, 5, 6, 5, 5, 5, 6, 5, 6, 5, 5, 6, 5, 7, 6, 5, 6, 6, 5, 5, 6, 5,\n",
       "       7, 5, 6, 6, 6, 6, 6, 5, 5, 5, 6, 5, 5, 5, 5, 5, 5, 5, 6, 5, 5, 5,\n",
       "       6, 5, 6, 6, 5, 6, 6, 6, 5, 7, 5, 6, 6, 6, 5, 7, 5, 6, 6, 6, 5, 5,\n",
       "       5, 5, 5, 6, 5, 6, 6, 6, 6, 5, 7, 6, 5, 5, 7, 5, 6, 6, 5, 5, 5, 6,\n",
       "       5, 5, 5, 5, 5, 6, 6, 5, 5, 6, 5, 6, 6, 5, 6, 6, 6, 6, 5, 7, 6, 5,\n",
       "       5, 5, 5, 6, 6, 6, 5, 7, 5, 6, 6, 5, 6, 7, 4, 5, 5, 6, 5, 5, 5, 6,\n",
       "       6, 6, 5, 5, 5, 7, 6, 6, 6, 5, 6, 6, 5, 5, 5, 6, 7, 7, 5, 6, 6, 7,\n",
       "       5, 6, 5, 5, 7, 7, 6, 6, 5, 5, 6, 6, 5, 5, 6, 5, 6, 6, 6, 7, 5, 6,\n",
       "       7, 6, 7, 6, 6, 5, 6, 5, 5, 5, 5, 6, 6, 6, 5, 6, 6, 5, 5, 6, 7, 6,\n",
       "       5, 5, 7, 5, 6, 7, 5, 8, 6, 6, 5, 6, 6, 7, 5, 6, 7, 5, 6, 5, 5, 5,\n",
       "       7, 5, 6, 6, 5, 6, 5, 6, 6, 6, 6, 5, 5, 6, 6, 5, 5, 7, 6, 5, 5, 6,\n",
       "       6, 5, 5, 7, 6, 5, 6, 7, 7, 6, 5, 7, 6, 6, 6, 5, 5, 6, 6, 5, 5, 5,\n",
       "       5, 6, 5, 7, 5, 6, 6, 7, 7, 7, 6, 5, 7, 5, 5, 5, 5, 5, 5, 5, 5, 5,\n",
       "       6, 6, 7, 6, 6, 5, 5, 6, 5, 5, 5, 6], dtype=int64)"
      ]
     },
     "execution_count": 44,
     "metadata": {},
     "output_type": "execute_result"
    }
   ],
   "source": [
    "# making prediction\n",
    "bag_dt.predict(x_test)"
   ]
  },
  {
   "cell_type": "code",
   "execution_count": 46,
   "metadata": {},
   "outputs": [
    {
     "data": {
      "text/plain": [
       "array([[0.  , 0.01, 0.46, 0.32, 0.2 , 0.01],\n",
       "       [0.  , 0.06, 0.91, 0.03, 0.  , 0.  ],\n",
       "       [0.  , 0.04, 0.85, 0.11, 0.  , 0.  ],\n",
       "       ...,\n",
       "       [0.  , 0.04, 0.71, 0.25, 0.  , 0.  ],\n",
       "       [0.2 , 0.05, 0.69, 0.04, 0.02, 0.  ],\n",
       "       [0.  , 0.01, 0.22, 0.56, 0.2 , 0.01]])"
      ]
     },
     "execution_count": 46,
     "metadata": {},
     "output_type": "execute_result"
    }
   ],
   "source": [
    "# prediction probabilites of each class for each data row in the x_test\n",
    "bag_dt.predict_proba(x_test)"
   ]
  },
  {
   "cell_type": "markdown",
   "metadata": {},
   "source": [
    "### BaggingClassifier using KNeighborsClassifier"
   ]
  },
  {
   "cell_type": "code",
   "execution_count": 49,
   "metadata": {},
   "outputs": [],
   "source": [
    "# importing knn classifier\n",
    "from sklearn.neighbors import KNeighborsClassifier"
   ]
  },
  {
   "cell_type": "code",
   "execution_count": 50,
   "metadata": {},
   "outputs": [],
   "source": [
    "# creating bagging object with knn classifier as base estimator\n",
    "bag_knn = BaggingClassifier(base_estimator=KNeighborsClassifier(6),n_estimators=100)"
   ]
  },
  {
   "cell_type": "code",
   "execution_count": 52,
   "metadata": {},
   "outputs": [
    {
     "data": {
      "text/plain": [
       "BaggingClassifier(base_estimator=KNeighborsClassifier(n_neighbors=6),\n",
       "                  n_estimators=100)"
      ]
     },
     "execution_count": 52,
     "metadata": {},
     "output_type": "execute_result"
    }
   ],
   "source": [
    "# Training the model\n",
    "bag_knn.fit(X_train,Y_train)"
   ]
  },
  {
   "cell_type": "code",
   "execution_count": 53,
   "metadata": {},
   "outputs": [
    {
     "data": {
      "text/plain": [
       "KNeighborsClassifier(n_neighbors=6)"
      ]
     },
     "execution_count": 53,
     "metadata": {},
     "output_type": "execute_result"
    }
   ],
   "source": [
    "# showing base estimator name\n",
    "bag_knn.base_estimator_"
   ]
  },
  {
   "cell_type": "code",
   "execution_count": 55,
   "metadata": {},
   "outputs": [
    {
     "data": {
      "text/plain": [
       "array([3, 4, 5, 6, 7, 8], dtype=int64)"
      ]
     },
     "execution_count": 55,
     "metadata": {},
     "output_type": "execute_result"
    }
   ],
   "source": [
    "# classes or label in which classification has to be done\n",
    "bag_knn.classes_"
   ]
  },
  {
   "cell_type": "code",
   "execution_count": 56,
   "metadata": {},
   "outputs": [
    {
     "data": {
      "text/plain": [
       "11"
      ]
     },
     "execution_count": 56,
     "metadata": {},
     "output_type": "execute_result"
    }
   ],
   "source": [
    "# Numbers of features on which model is trained\n",
    "bag_knn.n_features_in_"
   ]
  },
  {
   "cell_type": "code",
   "execution_count": 59,
   "metadata": {},
   "outputs": [
    {
     "data": {
      "text/plain": [
       "{'base_estimator__algorithm': 'auto',\n",
       " 'base_estimator__leaf_size': 30,\n",
       " 'base_estimator__metric': 'minkowski',\n",
       " 'base_estimator__metric_params': None,\n",
       " 'base_estimator__n_jobs': None,\n",
       " 'base_estimator__n_neighbors': 6,\n",
       " 'base_estimator__p': 2,\n",
       " 'base_estimator__weights': 'uniform',\n",
       " 'base_estimator': KNeighborsClassifier(n_neighbors=6),\n",
       " 'bootstrap': True,\n",
       " 'bootstrap_features': False,\n",
       " 'max_features': 1.0,\n",
       " 'max_samples': 1.0,\n",
       " 'n_estimators': 100,\n",
       " 'n_jobs': None,\n",
       " 'oob_score': False,\n",
       " 'random_state': None,\n",
       " 'verbose': 0,\n",
       " 'warm_start': False}"
      ]
     },
     "execution_count": 59,
     "metadata": {},
     "output_type": "execute_result"
    }
   ],
   "source": [
    "# shows all the parameters availabe which we can play to influence the quality of model\n",
    "bag_knn.get_params()"
   ]
  },
  {
   "cell_type": "code",
   "execution_count": 61,
   "metadata": {},
   "outputs": [
    {
     "data": {
      "text/plain": [
       "0.5"
      ]
     },
     "execution_count": 61,
     "metadata": {},
     "output_type": "execute_result"
    }
   ],
   "source": [
    "# shows accuracy of the model\n",
    "bag_knn.score(x_test,y_test)"
   ]
  },
  {
   "cell_type": "code",
   "execution_count": 63,
   "metadata": {},
   "outputs": [
    {
     "data": {
      "text/plain": [
       "array([6, 5, 5, 5, 6, 5, 6, 5, 5, 6, 6, 5, 6, 5, 5, 5, 5, 6, 5, 6, 5, 7,\n",
       "       5, 6, 7, 6, 6, 5, 5, 5, 5, 5, 5, 6, 5, 7, 6, 5, 6, 6, 5, 5, 6, 5,\n",
       "       7, 6, 5, 5, 6, 6, 6, 5, 5, 6, 6, 6, 5, 6, 5, 6, 6, 5, 6, 5, 5, 5,\n",
       "       5, 6, 7, 5, 5, 5, 6, 6, 5, 5, 6, 5, 6, 5, 6, 6, 6, 7, 5, 6, 5, 5,\n",
       "       5, 5, 5, 6, 5, 6, 6, 6, 5, 5, 7, 6, 5, 5, 7, 4, 6, 6, 6, 5, 7, 6,\n",
       "       5, 6, 7, 5, 5, 6, 5, 5, 5, 6, 5, 5, 5, 6, 5, 6, 5, 5, 5, 6, 5, 5,\n",
       "       5, 5, 7, 5, 6, 5, 6, 6, 5, 5, 6, 6, 5, 6, 4, 6, 5, 6, 6, 5, 6, 6,\n",
       "       6, 5, 5, 6, 5, 6, 6, 6, 6, 5, 5, 7, 5, 7, 5, 5, 6, 6, 5, 6, 6, 6,\n",
       "       6, 7, 5, 5, 7, 7, 7, 5, 5, 6, 6, 5, 7, 5, 6, 5, 6, 6, 5, 7, 5, 5,\n",
       "       6, 6, 6, 5, 7, 5, 6, 5, 6, 6, 5, 6, 6, 6, 5, 6, 7, 5, 5, 7, 6, 6,\n",
       "       5, 5, 6, 6, 6, 7, 5, 6, 7, 6, 5, 5, 7, 6, 6, 5, 8, 5, 6, 5, 5, 7,\n",
       "       6, 5, 5, 6, 5, 6, 5, 5, 5, 5, 6, 5, 5, 6, 7, 6, 5, 6, 6, 5, 5, 5,\n",
       "       6, 5, 5, 7, 6, 4, 7, 6, 7, 6, 5, 7, 7, 5, 6, 5, 6, 6, 6, 5, 5, 5,\n",
       "       5, 6, 6, 6, 5, 6, 5, 7, 6, 6, 5, 5, 6, 6, 5, 5, 5, 5, 5, 5, 5, 6,\n",
       "       5, 7, 5, 5, 5, 6, 5, 5, 5, 5, 5, 6], dtype=int64)"
      ]
     },
     "execution_count": 63,
     "metadata": {},
     "output_type": "execute_result"
    }
   ],
   "source": [
    "# prediction on x_test dataset\n",
    "bag_knn.predict(x_test)"
   ]
  },
  {
   "cell_type": "code",
   "execution_count": 65,
   "metadata": {},
   "outputs": [
    {
     "data": {
      "text/plain": [
       "array([[0.        , 0.15833333, 0.055     , 0.50666667, 0.10166667,\n",
       "        0.17833333],\n",
       "       [0.        , 0.00166667, 0.97833333, 0.02      , 0.        ,\n",
       "        0.        ],\n",
       "       [0.        , 0.195     , 0.775     , 0.03      , 0.        ,\n",
       "        0.        ],\n",
       "       ...,\n",
       "       [0.        , 0.        , 0.805     , 0.00166667, 0.12333333,\n",
       "        0.07      ],\n",
       "       [0.        , 0.24666667, 0.40166667, 0.19666667, 0.00333333,\n",
       "        0.15166667],\n",
       "       [0.        , 0.        , 0.07166667, 0.76333333, 0.165     ,\n",
       "        0.        ]])"
      ]
     },
     "execution_count": 65,
     "metadata": {},
     "output_type": "execute_result"
    }
   ],
   "source": [
    "# prediction probabilites of each class for each data row in the x_test\n",
    "bag_knn.predict_proba(x_test)"
   ]
  },
  {
   "cell_type": "markdown",
   "metadata": {},
   "source": [
    "### RandomForestClassifier"
   ]
  },
  {
   "cell_type": "code",
   "execution_count": 68,
   "metadata": {},
   "outputs": [],
   "source": [
    "# importing random forest\n",
    "from sklearn.ensemble import RandomForestClassifier"
   ]
  },
  {
   "cell_type": "code",
   "execution_count": 91,
   "metadata": {},
   "outputs": [],
   "source": [
    "# creating random forest classifier object\n",
    "rf = RandomForestClassifier(100)"
   ]
  },
  {
   "cell_type": "code",
   "execution_count": 120,
   "metadata": {},
   "outputs": [
    {
     "data": {
      "text/plain": [
       "RandomForestClassifier()"
      ]
     },
     "execution_count": 120,
     "metadata": {},
     "output_type": "execute_result"
    }
   ],
   "source": [
    "# training model\n",
    "rf.fit(X_train,Y_train)"
   ]
  },
  {
   "cell_type": "code",
   "execution_count": 93,
   "metadata": {},
   "outputs": [
    {
     "data": {
      "text/plain": [
       "DecisionTreeClassifier()"
      ]
     },
     "execution_count": 93,
     "metadata": {},
     "output_type": "execute_result"
    }
   ],
   "source": [
    "# base estimator is shown as decision tree classifer\n",
    "rf.base_estimator_"
   ]
  },
  {
   "cell_type": "code",
   "execution_count": 94,
   "metadata": {},
   "outputs": [
    {
     "data": {
      "text/plain": [
       "array([3, 4, 5, 6, 7, 8], dtype=int64)"
      ]
     },
     "execution_count": 94,
     "metadata": {},
     "output_type": "execute_result"
    }
   ],
   "source": [
    "# classes\n",
    "rf.classes_"
   ]
  },
  {
   "cell_type": "code",
   "execution_count": 95,
   "metadata": {},
   "outputs": [
    {
     "data": {
      "text/plain": [
       "11"
      ]
     },
     "execution_count": 95,
     "metadata": {},
     "output_type": "execute_result"
    }
   ],
   "source": [
    "# features \n",
    "rf.n_features_"
   ]
  },
  {
   "cell_type": "code",
   "execution_count": 96,
   "metadata": {},
   "outputs": [
    {
     "data": {
      "text/plain": [
       "{'bootstrap': True,\n",
       " 'ccp_alpha': 0.0,\n",
       " 'class_weight': None,\n",
       " 'criterion': 'gini',\n",
       " 'max_depth': None,\n",
       " 'max_features': 'auto',\n",
       " 'max_leaf_nodes': None,\n",
       " 'max_samples': None,\n",
       " 'min_impurity_decrease': 0.0,\n",
       " 'min_impurity_split': None,\n",
       " 'min_samples_leaf': 1,\n",
       " 'min_samples_split': 2,\n",
       " 'min_weight_fraction_leaf': 0.0,\n",
       " 'n_estimators': 100,\n",
       " 'n_jobs': None,\n",
       " 'oob_score': False,\n",
       " 'random_state': None,\n",
       " 'verbose': 0,\n",
       " 'warm_start': False}"
      ]
     },
     "execution_count": 96,
     "metadata": {},
     "output_type": "execute_result"
    }
   ],
   "source": [
    "# show all parameter used to create base estimator\n",
    "rf.get_params()"
   ]
  },
  {
   "cell_type": "code",
   "execution_count": 122,
   "metadata": {},
   "outputs": [
    {
     "data": {
      "text/plain": [
       "0.6875"
      ]
     },
     "execution_count": 122,
     "metadata": {},
     "output_type": "execute_result"
    }
   ],
   "source": [
    "# accuracy\n",
    "rf.score(x_test,y_test)"
   ]
  },
  {
   "cell_type": "code",
   "execution_count": 123,
   "metadata": {},
   "outputs": [
    {
     "data": {
      "text/plain": [
       "array([6, 5, 5, 5, 6, 6, 5, 6, 5, 5, 6, 6, 5, 5, 5, 5, 5, 6, 5, 6, 5, 7,\n",
       "       5, 5, 6, 5, 6, 5, 6, 5, 5, 5, 5, 6, 5, 7, 6, 5, 6, 6, 5, 5, 7, 5,\n",
       "       7, 5, 6, 6, 6, 6, 6, 5, 5, 5, 6, 5, 5, 5, 5, 5, 5, 5, 6, 5, 5, 5,\n",
       "       6, 5, 6, 6, 5, 6, 6, 6, 5, 7, 5, 6, 6, 6, 5, 7, 5, 6, 6, 6, 5, 5,\n",
       "       5, 5, 5, 6, 5, 6, 6, 6, 6, 5, 7, 6, 5, 5, 7, 4, 6, 6, 5, 5, 5, 6,\n",
       "       5, 5, 5, 5, 5, 6, 6, 5, 5, 6, 5, 5, 6, 5, 5, 6, 6, 6, 5, 7, 6, 5,\n",
       "       5, 5, 5, 6, 6, 6, 5, 7, 5, 6, 6, 5, 6, 6, 6, 5, 5, 6, 5, 5, 5, 6,\n",
       "       6, 6, 5, 5, 5, 7, 6, 6, 6, 5, 6, 6, 5, 5, 5, 6, 7, 6, 5, 6, 6, 7,\n",
       "       6, 6, 5, 5, 7, 7, 6, 6, 5, 5, 6, 6, 6, 5, 6, 5, 6, 6, 6, 7, 5, 6,\n",
       "       7, 6, 7, 6, 6, 5, 6, 5, 5, 5, 5, 6, 6, 6, 5, 6, 6, 5, 5, 6, 6, 6,\n",
       "       6, 5, 7, 5, 6, 6, 5, 7, 6, 6, 5, 6, 6, 7, 5, 5, 7, 5, 6, 5, 5, 7,\n",
       "       7, 5, 5, 6, 5, 5, 5, 5, 5, 6, 6, 5, 5, 6, 6, 5, 5, 7, 6, 5, 5, 5,\n",
       "       6, 5, 5, 7, 6, 5, 6, 7, 7, 6, 5, 7, 6, 6, 6, 5, 5, 6, 6, 5, 5, 5,\n",
       "       5, 6, 5, 7, 5, 6, 6, 7, 7, 7, 6, 6, 6, 5, 5, 5, 5, 5, 5, 5, 5, 5,\n",
       "       6, 6, 7, 6, 6, 5, 5, 6, 6, 5, 5, 6], dtype=int64)"
      ]
     },
     "execution_count": 123,
     "metadata": {},
     "output_type": "execute_result"
    }
   ],
   "source": [
    "# prediction on x_test\n",
    "rf.predict(x_test)"
   ]
  },
  {
   "cell_type": "code",
   "execution_count": 124,
   "metadata": {},
   "outputs": [
    {
     "data": {
      "text/plain": [
       "array([[0.  , 0.01, 0.35, 0.42, 0.2 , 0.02],\n",
       "       [0.  , 0.03, 0.91, 0.06, 0.  , 0.  ],\n",
       "       [0.  , 0.03, 0.9 , 0.07, 0.  , 0.  ],\n",
       "       ...,\n",
       "       [0.  , 0.03, 0.72, 0.24, 0.01, 0.  ],\n",
       "       [0.12, 0.13, 0.69, 0.06, 0.  , 0.  ],\n",
       "       [0.01, 0.01, 0.24, 0.58, 0.15, 0.01]])"
      ]
     },
     "execution_count": 124,
     "metadata": {},
     "output_type": "execute_result"
    }
   ],
   "source": [
    "## prediction probabilites of each class for each data row in the x_test\n",
    "rf.predict_proba(x_test)"
   ]
  },
  {
   "cell_type": "markdown",
   "metadata": {},
   "source": [
    "### comparision between above created models"
   ]
  },
  {
   "cell_type": "code",
   "execution_count": 100,
   "metadata": {},
   "outputs": [
    {
     "data": {
      "text/plain": [
       "0.69375"
      ]
     },
     "execution_count": 100,
     "metadata": {},
     "output_type": "execute_result"
    }
   ],
   "source": [
    "# accuracy of bagging with 100 decision trees \n",
    "bag_dt.score(x_test,y_test)"
   ]
  },
  {
   "cell_type": "code",
   "execution_count": 101,
   "metadata": {},
   "outputs": [
    {
     "data": {
      "text/plain": [
       "0.5"
      ]
     },
     "execution_count": 101,
     "metadata": {},
     "output_type": "execute_result"
    }
   ],
   "source": [
    "# accuracy of bagging with 100 knn \n",
    "bag_knn.score(x_test,y_test)"
   ]
  },
  {
   "cell_type": "code",
   "execution_count": 102,
   "metadata": {},
   "outputs": [
    {
     "data": {
      "text/plain": [
       "0.71875"
      ]
     },
     "execution_count": 102,
     "metadata": {},
     "output_type": "execute_result"
    }
   ],
   "source": [
    "# accuracy of random forest where 100 decision trees is used\n",
    "rf.score(x_test,y_test)"
   ]
  },
  {
   "cell_type": "markdown",
   "metadata": {},
   "source": [
    "### Observation - Random forest model gives better accuracy"
   ]
  },
  {
   "cell_type": "markdown",
   "metadata": {},
   "source": [
    "## EXTRA EXPERIMENTS WITH RANDOM FOREST"
   ]
  },
  {
   "cell_type": "code",
   "execution_count": 105,
   "metadata": {},
   "outputs": [
    {
     "data": {
      "text/plain": [
       "[DecisionTreeClassifier(max_features='auto', random_state=312740373),\n",
       " DecisionTreeClassifier(max_features='auto', random_state=501395558),\n",
       " DecisionTreeClassifier(max_features='auto', random_state=557653086),\n",
       " DecisionTreeClassifier(max_features='auto', random_state=540797481),\n",
       " DecisionTreeClassifier(max_features='auto', random_state=1511964624),\n",
       " DecisionTreeClassifier(max_features='auto', random_state=1504556210),\n",
       " DecisionTreeClassifier(max_features='auto', random_state=265342615),\n",
       " DecisionTreeClassifier(max_features='auto', random_state=2107936750),\n",
       " DecisionTreeClassifier(max_features='auto', random_state=912578988),\n",
       " DecisionTreeClassifier(max_features='auto', random_state=1667734836),\n",
       " DecisionTreeClassifier(max_features='auto', random_state=529365236),\n",
       " DecisionTreeClassifier(max_features='auto', random_state=1627003457),\n",
       " DecisionTreeClassifier(max_features='auto', random_state=542956394),\n",
       " DecisionTreeClassifier(max_features='auto', random_state=301313637),\n",
       " DecisionTreeClassifier(max_features='auto', random_state=1422842175),\n",
       " DecisionTreeClassifier(max_features='auto', random_state=553057207),\n",
       " DecisionTreeClassifier(max_features='auto', random_state=2076940166),\n",
       " DecisionTreeClassifier(max_features='auto', random_state=2071920328),\n",
       " DecisionTreeClassifier(max_features='auto', random_state=727855028),\n",
       " DecisionTreeClassifier(max_features='auto', random_state=1787214414),\n",
       " DecisionTreeClassifier(max_features='auto', random_state=661811813),\n",
       " DecisionTreeClassifier(max_features='auto', random_state=2081664800),\n",
       " DecisionTreeClassifier(max_features='auto', random_state=443620103),\n",
       " DecisionTreeClassifier(max_features='auto', random_state=663835942),\n",
       " DecisionTreeClassifier(max_features='auto', random_state=1627590358),\n",
       " DecisionTreeClassifier(max_features='auto', random_state=905918762),\n",
       " DecisionTreeClassifier(max_features='auto', random_state=2029246914),\n",
       " DecisionTreeClassifier(max_features='auto', random_state=476728404),\n",
       " DecisionTreeClassifier(max_features='auto', random_state=666656415),\n",
       " DecisionTreeClassifier(max_features='auto', random_state=873514685),\n",
       " DecisionTreeClassifier(max_features='auto', random_state=1540258354),\n",
       " DecisionTreeClassifier(max_features='auto', random_state=1144086889),\n",
       " DecisionTreeClassifier(max_features='auto', random_state=411263395),\n",
       " DecisionTreeClassifier(max_features='auto', random_state=1147673243),\n",
       " DecisionTreeClassifier(max_features='auto', random_state=1735133656),\n",
       " DecisionTreeClassifier(max_features='auto', random_state=1042472732),\n",
       " DecisionTreeClassifier(max_features='auto', random_state=159797054),\n",
       " DecisionTreeClassifier(max_features='auto', random_state=2101646931),\n",
       " DecisionTreeClassifier(max_features='auto', random_state=1978037760),\n",
       " DecisionTreeClassifier(max_features='auto', random_state=527641289),\n",
       " DecisionTreeClassifier(max_features='auto', random_state=47556576),\n",
       " DecisionTreeClassifier(max_features='auto', random_state=1043034224),\n",
       " DecisionTreeClassifier(max_features='auto', random_state=740185955),\n",
       " DecisionTreeClassifier(max_features='auto', random_state=1689296212),\n",
       " DecisionTreeClassifier(max_features='auto', random_state=1916029355),\n",
       " DecisionTreeClassifier(max_features='auto', random_state=2056178505),\n",
       " DecisionTreeClassifier(max_features='auto', random_state=528428343),\n",
       " DecisionTreeClassifier(max_features='auto', random_state=768326405),\n",
       " DecisionTreeClassifier(max_features='auto', random_state=2072593606),\n",
       " DecisionTreeClassifier(max_features='auto', random_state=623639442),\n",
       " DecisionTreeClassifier(max_features='auto', random_state=869824446),\n",
       " DecisionTreeClassifier(max_features='auto', random_state=1478189093),\n",
       " DecisionTreeClassifier(max_features='auto', random_state=1040143818),\n",
       " DecisionTreeClassifier(max_features='auto', random_state=1491541750),\n",
       " DecisionTreeClassifier(max_features='auto', random_state=304217153),\n",
       " DecisionTreeClassifier(max_features='auto', random_state=79878926),\n",
       " DecisionTreeClassifier(max_features='auto', random_state=333806279),\n",
       " DecisionTreeClassifier(max_features='auto', random_state=78271061),\n",
       " DecisionTreeClassifier(max_features='auto', random_state=2001447860),\n",
       " DecisionTreeClassifier(max_features='auto', random_state=615288930),\n",
       " DecisionTreeClassifier(max_features='auto', random_state=811092897),\n",
       " DecisionTreeClassifier(max_features='auto', random_state=402753445),\n",
       " DecisionTreeClassifier(max_features='auto', random_state=803241188),\n",
       " DecisionTreeClassifier(max_features='auto', random_state=1991803271),\n",
       " DecisionTreeClassifier(max_features='auto', random_state=1589823085),\n",
       " DecisionTreeClassifier(max_features='auto', random_state=266782430),\n",
       " DecisionTreeClassifier(max_features='auto', random_state=1923976267),\n",
       " DecisionTreeClassifier(max_features='auto', random_state=1013439913),\n",
       " DecisionTreeClassifier(max_features='auto', random_state=1091767324),\n",
       " DecisionTreeClassifier(max_features='auto', random_state=1046333134),\n",
       " DecisionTreeClassifier(max_features='auto', random_state=991988346),\n",
       " DecisionTreeClassifier(max_features='auto', random_state=1216253569),\n",
       " DecisionTreeClassifier(max_features='auto', random_state=1073359155),\n",
       " DecisionTreeClassifier(max_features='auto', random_state=1238070029),\n",
       " DecisionTreeClassifier(max_features='auto', random_state=232697891),\n",
       " DecisionTreeClassifier(max_features='auto', random_state=416565981),\n",
       " DecisionTreeClassifier(max_features='auto', random_state=1340735253),\n",
       " DecisionTreeClassifier(max_features='auto', random_state=584043586),\n",
       " DecisionTreeClassifier(max_features='auto', random_state=1396916814),\n",
       " DecisionTreeClassifier(max_features='auto', random_state=1461070228),\n",
       " DecisionTreeClassifier(max_features='auto', random_state=1848863425),\n",
       " DecisionTreeClassifier(max_features='auto', random_state=510803409),\n",
       " DecisionTreeClassifier(max_features='auto', random_state=1541029432),\n",
       " DecisionTreeClassifier(max_features='auto', random_state=1035054934),\n",
       " DecisionTreeClassifier(max_features='auto', random_state=2119037477),\n",
       " DecisionTreeClassifier(max_features='auto', random_state=1186688076),\n",
       " DecisionTreeClassifier(max_features='auto', random_state=578380015),\n",
       " DecisionTreeClassifier(max_features='auto', random_state=102894615),\n",
       " DecisionTreeClassifier(max_features='auto', random_state=2025988657),\n",
       " DecisionTreeClassifier(max_features='auto', random_state=251211642),\n",
       " DecisionTreeClassifier(max_features='auto', random_state=877618950),\n",
       " DecisionTreeClassifier(max_features='auto', random_state=2043115325),\n",
       " DecisionTreeClassifier(max_features='auto', random_state=1519876068),\n",
       " DecisionTreeClassifier(max_features='auto', random_state=1561189135),\n",
       " DecisionTreeClassifier(max_features='auto', random_state=336195706),\n",
       " DecisionTreeClassifier(max_features='auto', random_state=1820559425),\n",
       " DecisionTreeClassifier(max_features='auto', random_state=1445046562),\n",
       " DecisionTreeClassifier(max_features='auto', random_state=948796864),\n",
       " DecisionTreeClassifier(max_features='auto', random_state=1271323882),\n",
       " DecisionTreeClassifier(max_features='auto', random_state=160613891)]"
      ]
     },
     "execution_count": 105,
     "metadata": {},
     "output_type": "execute_result"
    }
   ],
   "source": [
    "# shows all decision trees classifiers\n",
    "rf.estimators_ "
   ]
  },
  {
   "cell_type": "code",
   "execution_count": 106,
   "metadata": {},
   "outputs": [
    {
     "data": {
      "text/plain": [
       "DecisionTreeClassifier(max_features='auto', random_state=312740373)"
      ]
     },
     "execution_count": 106,
     "metadata": {},
     "output_type": "execute_result"
    }
   ],
   "source": [
    "rf.estimators_[0]"
   ]
  },
  {
   "cell_type": "code",
   "execution_count": 108,
   "metadata": {
    "scrolled": true
   },
   "outputs": [
    {
     "data": {
      "image/png": "[encoded data removed]",
      "text/plain": [
       "<Figure size 1440x1440 with 1 Axes>"
      ]
     },
     "metadata": {
      "needs_background": "light"
     },
     "output_type": "display_data"
    }
   ],
   "source": [
    "#Plotting tree structure of one and first decision tree\n",
    "plt.figure(figsize=(20,20))\n",
    "tp = tree.plot_tree(rf.estimators_[0],filled=True)"
   ]
  },
  {
   "cell_type": "markdown",
   "metadata": {},
   "source": [
    "### GRID SEARCH"
   ]
  },
  {
   "cell_type": "code",
   "execution_count": 109,
   "metadata": {},
   "outputs": [],
   "source": [
    "# setting some parameter which we want to tune for randome forest\n",
    "grid_param = {\n",
    "    \"n_estimators\":[100,150,200],\n",
    "    \"criterion\" : [\"gini\",\"random\"],\n",
    "    \"max_depth\" : range(5,10),\n",
    "    \"min_samples_leaf\" : range(5)\n",
    "}"
   ]
  },
  {
   "cell_type": "code",
   "execution_count": 110,
   "metadata": {},
   "outputs": [],
   "source": [
    "rf = RandomForestClassifier()"
   ]
  },
  {
   "cell_type": "code",
   "execution_count": 111,
   "metadata": {},
   "outputs": [],
   "source": [
    "# gridsearchcv for hyperparameter tuning\n",
    "grid_search_rf = GridSearchCV(estimator=rf,param_grid=grid_param,cv=10,n_jobs=6,verbose=1)"
   ]
  },
  {
   "cell_type": "code",
   "execution_count": 112,
   "metadata": {},
   "outputs": [
    {
     "name": "stdout",
     "output_type": "stream",
     "text": [
      "Fitting 10 folds for each of 150 candidates, totalling 1500 fits\n"
     ]
    },
    {
     "name": "stderr",
     "output_type": "stream",
     "text": [
      "C:\\Users\\aniyant\\anaconda3\\lib\\site-packages\\sklearn\\model_selection\\_split.py:670: UserWarning: The least populated class in y has only 9 members, which is less than n_splits=10.\n",
      "  warnings.warn((\"The least populated class in y has only %d\"\n",
      "[Parallel(n_jobs=6)]: Using backend LokyBackend with 6 concurrent workers.\n",
      "[Parallel(n_jobs=6)]: Done  38 tasks      | elapsed:   15.7s\n",
      "[Parallel(n_jobs=6)]: Done 188 tasks      | elapsed:   37.1s\n",
      "[Parallel(n_jobs=6)]: Done 438 tasks      | elapsed:  1.3min\n",
      "[Parallel(n_jobs=6)]: Done 788 tasks      | elapsed:  2.2min\n",
      "[Parallel(n_jobs=6)]: Done 1238 tasks      | elapsed:  2.5min\n",
      "[Parallel(n_jobs=6)]: Done 1500 out of 1500 | elapsed:  2.7min finished\n"
     ]
    },
    {
     "data": {
      "text/plain": [
       "GridSearchCV(cv=10, estimator=RandomForestClassifier(), n_jobs=6,\n",
       "             param_grid={'criterion': ['gini', 'random'],\n",
       "                         'max_depth': range(5, 10),\n",
       "                         'min_samples_leaf': range(0, 5),\n",
       "                         'n_estimators': [100, 150, 200]},\n",
       "             verbose=1)"
      ]
     },
     "execution_count": 112,
     "metadata": {},
     "output_type": "execute_result"
    }
   ],
   "source": [
    "# training \n",
    "grid_search_rf.fit(X_train,Y_train)"
   ]
  },
  {
   "cell_type": "code",
   "execution_count": 113,
   "metadata": {},
   "outputs": [
    {
     "data": {
      "text/plain": [
       "{'criterion': 'gini',\n",
       " 'max_depth': 9,\n",
       " 'min_samples_leaf': 1,\n",
       " 'n_estimators': 200}"
      ]
     },
     "execution_count": 113,
     "metadata": {},
     "output_type": "execute_result"
    }
   ],
   "source": [
    "# best parameter we got from grid search\n",
    "grid_search_rf.best_params_"
   ]
  },
  {
   "cell_type": "code",
   "execution_count": 114,
   "metadata": {},
   "outputs": [],
   "source": [
    "# new random forest model\n",
    "rf_new = RandomForestClassifier(n_estimators=200,criterion='gini',max_depth=9,min_samples_leaf=1,)"
   ]
  },
  {
   "cell_type": "code",
   "execution_count": 116,
   "metadata": {},
   "outputs": [
    {
     "data": {
      "text/plain": [
       "RandomForestClassifier(max_depth=9, n_estimators=200)"
      ]
     },
     "execution_count": 116,
     "metadata": {},
     "output_type": "execute_result"
    }
   ],
   "source": [
    "rf_new.fit(X_train,Y_train)"
   ]
  },
  {
   "cell_type": "code",
   "execution_count": 118,
   "metadata": {
    "scrolled": true
   },
   "outputs": [
    {
     "data": {
      "text/plain": [
       "0.696875"
      ]
     },
     "execution_count": 118,
     "metadata": {},
     "output_type": "execute_result"
    }
   ],
   "source": [
    "# accuracy of this model\n",
    "rf_new.score(x_test,y_test)"
   ]
  },
  {
   "cell_type": "code",
   "execution_count": 125,
   "metadata": {},
   "outputs": [
    {
     "data": {
      "text/plain": [
       "0.6875"
      ]
     },
     "execution_count": 125,
     "metadata": {},
     "output_type": "execute_result"
    }
   ],
   "source": [
    "# accuracy of the previous model\n",
    "rf.score(x_test,y_test)"
   ]
  },
  {
   "cell_type": "markdown",
   "metadata": {},
   "source": [
    "### GridSearchCV may or may not be able to increase the accuracy of the model, it's just a matter of experiment"
   ]
  },
  {
   "cell_type": "code",
   "execution_count": null,
   "metadata": {},
   "outputs": [],
   "source": []
  }
 ],
 "metadata": {
  "kernelspec": {
   "display_name": "Python 3",
   "language": "python",
   "name": "python3"
  },
  "language_info": {
   "codemirror_mode": {
    "name": "ipython",
    "version": 3
   },
   "file_extension": ".py",
   "mimetype": "text/x-python",
   "name": "python",
   "nbconvert_exporter": "python",
   "pygments_lexer": "ipython3",
   "version": "3.8.5"
  }
 },
 "nbformat": 4,
 "nbformat_minor": 4
}
